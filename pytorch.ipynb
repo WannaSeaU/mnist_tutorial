{
 "cells": [
  {
   "cell_type": "markdown",
   "metadata": {},
   "source": [
    "# Pytorch Tutorial"
   ]
  },
  {
   "cell_type": "markdown",
   "metadata": {},
   "source": [
    "Pytorch is a popular deep learning framework and it's easy to get started."
   ]
  },
  {
   "cell_type": "code",
   "execution_count": 1,
   "metadata": {},
   "outputs": [],
   "source": [
    "import torch\n",
    "import torch.nn as nn\n",
    "import torch.utils.data as data\n",
    "import torchvision\n",
    "import torchvision.transforms as transforms\n",
    "from tqdm import tqdm\n",
    "from torch.autograd import Variable\n",
    "import time\n",
    "\n",
    "BATCH_SIZE = 128\n",
    "NUM_EPOCHS = 10"
   ]
  },
  {
   "cell_type": "markdown",
   "metadata": {},
   "source": [
    "First, we read the mnist data, preprocess them and encapsulate them into dataloader form."
   ]
  },
  {
   "cell_type": "code",
   "execution_count": 2,
   "metadata": {},
   "outputs": [],
   "source": [
    "# preprocessing\n",
    "normalize = transforms.Normalize(mean=[.5], std=[.5])\n",
    "transform = transforms.Compose([transforms.ToTensor(), normalize])\n",
    "\n",
    "# download and load the data\n",
    "train_dataset = torchvision.datasets.MNIST(root='./mnist/', train=True, transform=transform, download=True)\n",
    "test_dataset = torchvision.datasets.MNIST(root='./mnist/', train=False, transform=transform, download=False)\n",
    "\n",
    "# encapsulate them into dataloader form\n",
    "train_loader = data.DataLoader(train_dataset, batch_size=BATCH_SIZE, shuffle=True, drop_last=True)\n",
    "test_loader = data.DataLoader(test_dataset, batch_size=BATCH_SIZE, shuffle=False, drop_last=True)"
   ]
  },
  {
   "cell_type": "markdown",
   "metadata": {},
   "source": [
    "Then, we define the model, object function and optimizer that we use to classify."
   ]
  },
  {
   "cell_type": "code",
   "execution_count": 3,
   "metadata": {},
   "outputs": [],
   "source": [
    "class SimpleNet(nn.Module):\n",
    "# TODO:define model\n",
    "    # Initialize, create an simple CNN with 2 conv layers, 1 maxpooling layer and 2 full-connected layer\n",
    "    def __init__(self):\n",
    "        super(SimpleNet, self).__init__()\n",
    "        self.conv1 = nn.Sequential(\n",
    "            nn.Conv2d(1,64,kernel_size=3,stride=1,padding=1),\n",
    "            nn.ReLU(),\n",
    "            nn.Conv2d(64,128,kernel_size=3,stride=1,padding=1),\n",
    "            nn.ReLU(),\n",
    "            nn.MaxPool2d(stride=2,kernel_size=2))\n",
    "        \n",
    "        self.dense = nn.Sequential(\n",
    "            nn.Linear(14*14*128,1024),\n",
    "            nn.ReLU(),\n",
    "            nn.Dropout(p=0.5),\n",
    "            nn.Linear(1024,10))\n",
    "        \n",
    "    # Modify forward propagation function    \n",
    "    def forward(self, x):\n",
    "        x = self.conv1(x)\n",
    "        x = x.view(-1, 14*14*128)\n",
    "        x = self.dense(x)\n",
    "        return x\n",
    "    \n",
    "model = SimpleNet()\n",
    "if torch.cuda.is_available():\n",
    "    model.cuda()\n",
    "    \n",
    "# TODO:define loss function and optimiter\n",
    "criterion = nn.CrossEntropyLoss()\n",
    "optimizer = torch.optim.Adam(model.parameters())"
   ]
  },
  {
   "cell_type": "markdown",
   "metadata": {},
   "source": [
    "Next, we can start to train and evaluate!"
   ]
  },
  {
   "cell_type": "code",
   "execution_count": 4,
   "metadata": {
    "scrolled": false
   },
   "outputs": [
    {
     "name": "stdout",
     "output_type": "stream",
     "text": [
      "Epoch0/10\n",
      "----------\n"
     ]
    },
    {
     "name": "stderr",
     "output_type": "stream",
     "text": [
      "100%|████████████████████████████████████████████████████████████████████████████████| 468/468 [01:19<00:00,  9.11it/s]\n",
      "100%|██████████████████████████████████████████████████████████████████████████████████| 78/78 [00:05<00:00, 25.02it/s]\n"
     ]
    },
    {
     "name": "stdout",
     "output_type": "stream",
     "text": [
      "Loss is:0.0014, Train Accuracy is:94.7250%, Test Accuracy is:97.9700%\n",
      "Epoch1/10\n",
      "----------\n"
     ]
    },
    {
     "name": "stderr",
     "output_type": "stream",
     "text": [
      "100%|████████████████████████████████████████████████████████████████████████████████| 468/468 [00:58<00:00,  8.75it/s]\n",
      "100%|██████████████████████████████████████████████████████████████████████████████████| 78/78 [00:05<00:00, 13.62it/s]\n"
     ]
    },
    {
     "name": "stdout",
     "output_type": "stream",
     "text": [
      "Loss is:0.0004, Train Accuracy is:98.3433%, Test Accuracy is:98.5400%\n",
      "Epoch2/10\n",
      "----------\n"
     ]
    },
    {
     "name": "stderr",
     "output_type": "stream",
     "text": [
      "100%|████████████████████████████████████████████████████████████████████████████████| 468/468 [00:53<00:00,  8.91it/s]\n",
      "100%|██████████████████████████████████████████████████████████████████████████████████| 78/78 [00:07<00:00,  7.77it/s]\n"
     ]
    },
    {
     "name": "stdout",
     "output_type": "stream",
     "text": [
      "Loss is:0.0003, Train Accuracy is:98.8167%, Test Accuracy is:98.3600%\n",
      "Epoch3/10\n",
      "----------\n"
     ]
    },
    {
     "name": "stderr",
     "output_type": "stream",
     "text": [
      "100%|████████████████████████████████████████████████████████████████████████████████| 468/468 [00:55<00:00,  8.53it/s]\n",
      "100%|██████████████████████████████████████████████████████████████████████████████████| 78/78 [00:05<00:00, 22.35it/s]\n"
     ]
    },
    {
     "name": "stdout",
     "output_type": "stream",
     "text": [
      "Loss is:0.0002, Train Accuracy is:99.0767%, Test Accuracy is:98.3600%\n",
      "Epoch4/10\n",
      "----------\n"
     ]
    },
    {
     "name": "stderr",
     "output_type": "stream",
     "text": [
      "100%|████████████████████████████████████████████████████████████████████████████████| 468/468 [00:56<00:00,  8.62it/s]\n",
      "100%|██████████████████████████████████████████████████████████████████████████████████| 78/78 [00:03<00:00, 24.84it/s]\n"
     ]
    },
    {
     "name": "stdout",
     "output_type": "stream",
     "text": [
      "Loss is:0.0001, Train Accuracy is:99.2033%, Test Accuracy is:98.4800%\n",
      "Epoch5/10\n",
      "----------\n"
     ]
    },
    {
     "name": "stderr",
     "output_type": "stream",
     "text": [
      "100%|████████████████████████████████████████████████████████████████████████████████| 468/468 [00:58<00:00,  8.55it/s]\n",
      "100%|██████████████████████████████████████████████████████████████████████████████████| 78/78 [00:03<00:00, 24.89it/s]\n"
     ]
    },
    {
     "name": "stdout",
     "output_type": "stream",
     "text": [
      "Loss is:0.0001, Train Accuracy is:99.3667%, Test Accuracy is:98.5700%\n",
      "Epoch6/10\n",
      "----------\n"
     ]
    },
    {
     "name": "stderr",
     "output_type": "stream",
     "text": [
      "100%|████████████████████████████████████████████████████████████████████████████████| 468/468 [00:56<00:00,  8.58it/s]\n",
      "100%|██████████████████████████████████████████████████████████████████████████████████| 78/78 [00:04<00:00,  7.32it/s]\n"
     ]
    },
    {
     "name": "stdout",
     "output_type": "stream",
     "text": [
      "Loss is:0.0001, Train Accuracy is:99.4450%, Test Accuracy is:98.7300%\n",
      "Epoch7/10\n",
      "----------\n"
     ]
    },
    {
     "name": "stderr",
     "output_type": "stream",
     "text": [
      "100%|████████████████████████████████████████████████████████████████████████████████| 468/468 [00:56<00:00,  8.61it/s]\n",
      "100%|██████████████████████████████████████████████████████████████████████████████████| 78/78 [00:05<00:00,  9.10it/s]\n"
     ]
    },
    {
     "name": "stdout",
     "output_type": "stream",
     "text": [
      "Loss is:0.0001, Train Accuracy is:99.4633%, Test Accuracy is:98.5600%\n",
      "Epoch8/10\n",
      "----------\n"
     ]
    },
    {
     "name": "stderr",
     "output_type": "stream",
     "text": [
      "100%|████████████████████████████████████████████████████████████████████████████████| 468/468 [00:53<00:00,  8.58it/s]\n",
      "100%|██████████████████████████████████████████████████████████████████████████████████| 78/78 [00:03<00:00, 25.05it/s]\n"
     ]
    },
    {
     "name": "stdout",
     "output_type": "stream",
     "text": [
      "Loss is:0.0001, Train Accuracy is:99.4833%, Test Accuracy is:98.6100%\n",
      "Epoch9/10\n",
      "----------\n"
     ]
    },
    {
     "name": "stderr",
     "output_type": "stream",
     "text": [
      "100%|████████████████████████████████████████████████████████████████████████████████| 468/468 [00:53<00:00,  8.95it/s]\n",
      "100%|██████████████████████████████████████████████████████████████████████████████████| 78/78 [00:05<00:00, 23.85it/s]\n"
     ]
    },
    {
     "name": "stdout",
     "output_type": "stream",
     "text": [
      "Loss is:0.0001, Train Accuracy is:99.5700%, Test Accuracy is:98.7700%\n"
     ]
    }
   ],
   "source": [
    "# train and evaluate\n",
    "for epoch in range(NUM_EPOCHS):\n",
    "    running_loss = 0.0\n",
    "    running_correct = 0\n",
    "    print(\"Epoch{}/{}\".format(epoch, NUM_EPOCHS))\n",
    "    print('-'*10)\n",
    "    for images, labels in tqdm(train_loader):\n",
    "        # TODO:forward + backward + optimize\n",
    "        images, labels = Variable(images), Variable(labels)\n",
    "        if torch.cuda.is_available():\n",
    "            images, labels = Variable(images.cuda()), Variable(labels.cuda())\n",
    "        else:\n",
    "            images, labels = Variable(images), Variable(labels)\n",
    "        outputs = model(images)\n",
    "        _,pred = torch.max(outputs.data, 1)\n",
    "        optimizer.zero_grad()\n",
    "        loss = criterion(outputs, labels)\n",
    "        \n",
    "        loss.backward()\n",
    "        optimizer.step()\n",
    "        running_loss += loss.data.item()\n",
    "        running_correct += torch.sum(pred == labels.data).item()   \n",
    "        \n",
    "    # evaluate\n",
    "    # TODO:calculate the accuracy using traning and testing dataset\n",
    "    testing_correct = 0\n",
    "    for images, labels in tqdm(test_loader):\n",
    "        if torch.cuda.is_available():\n",
    "            images, labels = Variable(images.cuda(),requires_grad = False), Variable(labels.cuda(),requires_grad = False)\n",
    "        else:\n",
    "            images, labels = Variable(images,requires_grad = False), Variable(labels,requires_grad = False)\n",
    "        outputs = model(images)\n",
    "        _,pred = torch.max(outputs.data, 1)\n",
    "        testing_correct += torch.sum(pred == labels.data).item()   \n",
    "    print('Loss is:{:.4f}, Train Accuracy is:{:.4f}%, Test Accuracy is:{:.4f}%'\n",
    "          .format(running_loss/len(train_dataset),100*running_correct/float(len(train_dataset)),100*testing_correct/float(len(test_dataset))))\n"
   ]
  },
  {
   "cell_type": "markdown",
   "metadata": {},
   "source": [
    "#### Q5:\n",
    "Please print the training and testing accuracy."
   ]
  },
  {
   "cell_type": "code",
   "execution_count": 5,
   "metadata": {},
   "outputs": [
    {
     "name": "stdout",
     "output_type": "stream",
     "text": [
      "Training accuracy: 99.5700%\n",
      "Testing accuracy: 98.7700%\n"
     ]
    }
   ],
   "source": [
    "print('Training accuracy: %0.4f%%' % (running_correct/len(train_dataset)*100))\n",
    "print('Testing accuracy: %0.4f%%' % (testing_correct/len(test_dataset)*100))"
   ]
  }
 ],
 "metadata": {
  "kernelspec": {
   "display_name": "python36",
   "language": "python",
   "name": "python36"
  },
  "language_info": {
   "codemirror_mode": {
    "name": "ipython",
    "version": 3
   },
   "file_extension": ".py",
   "mimetype": "text/x-python",
   "name": "python",
   "nbconvert_exporter": "python",
   "pygments_lexer": "ipython3",
   "version": "3.6.3"
  }
 },
 "nbformat": 4,
 "nbformat_minor": 2
}
